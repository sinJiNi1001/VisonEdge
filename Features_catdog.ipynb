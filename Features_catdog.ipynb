{
  "nbformat": 4,
  "nbformat_minor": 0,
  "metadata": {
    "colab": {
      "provenance": []
    },
    "kernelspec": {
      "name": "python3",
      "display_name": "Python 3"
    },
    "language_info": {
      "name": "python"
    }
  },
  "cells": [
    {
      "cell_type": "code",
      "execution_count": null,
      "metadata": {
        "colab": {
          "base_uri": "https://localhost:8080/"
        },
        "id": "vRUGsvmN6Czw",
        "outputId": "0af54a6f-e143-4146-f10e-8370a0f88b95"
      },
      "outputs": [
        {
          "output_type": "stream",
          "name": "stdout",
          "text": [
            "Drive already mounted at /content/drive; to attempt to forcibly remount, call drive.mount(\"/content/drive\", force_remount=True).\n",
            "\n",
            "--- Cat Features ---\n",
            "cat.1000.jpg: [np.float64(105.89), np.float64(111.96), np.float64(105.45), np.float64(92.34)]\n",
            "cat.10011.jpg: [np.float64(139.4), np.float64(142.6), np.float64(140.04), np.float64(127.83)]\n",
            "cat.10003.jpg: [np.float64(149.96), np.float64(152.19), np.float64(148.59), np.float64(151.29)]\n",
            "cat.10000.jpg: [np.float64(58.18), np.float64(71.92), np.float64(53.51), np.float64(46.21)]\n",
            "cat.10010.jpg: [np.float64(73.56), np.float64(156.76), np.float64(35.32), np.float64(52.39)]\n",
            "cat.0.jpg: [np.float64(133.35), np.float64(167.67), np.float64(129.77), np.float64(61.9)]\n",
            "cat.10006.jpg: [np.float64(152.86), np.float64(158.55), np.float64(151.81), np.float64(143.44)]\n",
            "cat.100.jpg: [np.float64(166.29), np.float64(188.03), np.float64(158.84), np.float64(147.86)]\n",
            "cat.10005.jpg: [np.float64(105.73), np.float64(104.6), np.float64(105.57), np.float64(109.64)]\n",
            "cat.10007.jpg: [np.float64(171.19), np.float64(221.05), np.float64(154.13), np.float64(128.41)]\n",
            "cat.10008.jpg: [np.float64(131.97), np.float64(153.52), np.float64(126.9), np.float64(101.71)]\n",
            "cat.10.jpg: [np.float64(111.85), np.float64(117.46), np.float64(111.9), np.float64(96.97)]\n",
            "cat.10013.jpg: [np.float64(86.47), np.float64(88.88), np.float64(84.6), np.float64(89.84)]\n",
            "cat.1.jpg: [np.float64(71.37), np.float64(78.77), np.float64(68.28), np.float64(67.96)]\n",
            "cat.10014.jpg: [np.float64(79.32), np.float64(91.18), np.float64(76.35), np.float64(63.63)]\n",
            "cat.10009.jpg: [np.float64(152.5), np.float64(168.32), np.float64(152.37), np.float64(111.83)]\n",
            "cat.10002.jpg: [np.float64(90.31), np.float64(96.58), np.float64(88.95), np.float64(80.99)]\n",
            "cat.10004.jpg: [np.float64(118.99), np.float64(149.2), np.float64(106.33), np.float64(105.1)]\n",
            "cat.10012.jpg: [np.float64(93.02), np.float64(107.36), np.float64(88.79), np.float64(77.32)]\n",
            "cat.10001.jpg: [np.float64(79.38), np.float64(89.64), np.float64(76.32), np.float64(68.26)]\n",
            "cat.1001.jpg: [np.float64(139.35), np.float64(141.33), np.float64(144.54), np.float64(107.6)]\n",
            "\n",
            "--- Dog Features ---\n",
            "unknown.5no4od4o.jpg: [np.float64(146.43), np.float64(150.6), np.float64(144.83), np.float64(143.82)]\n",
            "unknown.5no4u22n.jpg: [np.float64(150.99), np.float64(154.79), np.float64(149.31), np.float64(149.81)]\n",
            "unknown.5no4p1mv.jpg: [np.float64(148.69), np.float64(151.23), np.float64(147.52), np.float64(148.23)]\n",
            "unknown.5no4o1f3.jpg: [np.float64(180.2), np.float64(184.21), np.float64(178.46), np.float64(178.77)]\n",
            "unknown.5no4ppfd.jpg: [np.float64(153.88), np.float64(157.27), np.float64(152.46), np.float64(152.39)]\n",
            "dog.9863.jpg: [np.float64(154.18), np.float64(177.39), np.float64(148.82), np.float64(121.07)]\n",
            "dog.9871.jpg: [np.float64(125.87), np.float64(156.59), np.float64(115.52), np.float64(98.69)]\n",
            "dog.9861.jpg: [np.float64(127.17), np.float64(147.4), np.float64(121.91), np.float64(101.36)]\n",
            "dog.9870.jpg: [np.float64(107.41), np.float64(110.25), np.float64(105.5), np.float64(109.92)]\n",
            "dog.9869.jpg: [np.float64(150.96), np.float64(157.82), np.float64(154.35), np.float64(115.62)]\n",
            "dog.9865.jpg: [np.float64(92.28), np.float64(93.73), np.float64(92.46), np.float64(87.62)]\n",
            "dog.9876.jpg: [np.float64(123.68), np.float64(122.17), np.float64(124.48), np.float64(123.64)]\n",
            "unknown.5no4p8i8.jpg: [np.float64(149.42), np.float64(151.77), np.float64(148.34), np.float64(148.95)]\n",
            "dog.9868.jpg: [np.float64(148.85), np.float64(177.12), np.float64(139.0), np.float64(125.63)]\n",
            "unknown.5no4olrk.jpg: [np.float64(148.11), np.float64(152.14), np.float64(146.68), np.float64(145.08)]\n",
            "dog.9864.jpg: [np.float64(132.14), np.float64(144.22), np.float64(129.27), np.float64(115.34)]\n",
            "unknown.5no4orvp.jpg: [np.float64(148.64), np.float64(151.89), np.float64(147.43), np.float64(146.48)]\n",
            "dog.9867.jpg: [np.float64(116.3), np.float64(124.57), np.float64(118.51), np.float64(83.34)]\n",
            "dog.9859.jpg: [np.float64(164.08), np.float64(168.22), np.float64(163.95), np.float64(154.01)]\n",
            "unknown.5no4pe72.jpg: [np.float64(147.36), np.float64(149.77), np.float64(146.22), np.float64(147.07)]\n",
            "dog.9872.jpg: [np.float64(113.31), np.float64(128.0), np.float64(110.22), np.float64(90.79)]\n",
            "dog.9860.jpg: [np.float64(93.13), np.float64(100.76), np.float64(90.55), np.float64(86.46)]\n",
            "unknown.5no4q31v.jpg: [np.float64(155.53), np.float64(159.21), np.float64(154.07), np.float64(153.57)]\n",
            "dog.9873.jpg: [np.float64(105.83), np.float64(92.41), np.float64(111.26), np.float64(113.2)]\n",
            "dog.9874.jpg: [np.float64(109.8), np.float64(109.73), np.float64(110.77), np.float64(105.06)]\n",
            "dog.9858.jpg: [np.float64(112.8), np.float64(115.18), np.float64(111.3), np.float64(114.35)]\n",
            "dog.9832.jpg: [np.float64(149.62), np.float64(153.44), np.float64(150.2), np.float64(136.8)]\n",
            "unknown.5no4pjtc.jpg: [np.float64(152.49), np.float64(155.47), np.float64(151.22), np.float64(151.38)]\n",
            "unknown.5no4puv5.jpg: [np.float64(156.72), np.float64(160.28), np.float64(155.34), np.float64(154.67)]\n",
            "dog.9862.jpg: [np.float64(72.7), np.float64(75.69), np.float64(71.39), np.float64(71.61)]\n",
            "dog.985.jpg: [np.float64(112.97), np.float64(138.98), np.float64(117.38), np.float64(22.18)]\n",
            "dog.9866.jpg: [np.float64(160.08), np.float64(163.24), np.float64(159.64), np.float64(154.2)]\n",
            "dog.9878.jpg: [np.float64(91.41), np.float64(99.09), np.float64(88.19), np.float64(87.89)]\n",
            "dog.9831.jpg: [np.float64(113.69), np.float64(132.39), np.float64(110.53), np.float64(81.06)]\n",
            "dog.9879.jpg: [np.float64(98.35), np.float64(100.25), np.float64(98.38), np.float64(93.36)]\n",
            "dog.9877.jpg: [np.float64(87.29), np.float64(79.88), np.float64(93.9), np.float64(72.77)]\n",
            "dog.9875.jpg: [np.float64(81.38), np.float64(91.03), np.float64(78.29), np.float64(72.13)]\n",
            "dog.984.jpg: [np.float64(123.12), np.float64(121.29), np.float64(124.2), np.float64(122.45)]\n",
            "\n",
            "--- Averages for ESP32 Code ---\n",
            "std::vector<float> catFeature = { 114.81, 131.31, 109.92, 96.79 };\n",
            "std::vector<float> dogFeature = { 129.13, 135.78, 127.94, 117.92 };\n"
          ]
        }
      ],
      "source": [
        "# STEP 1: Mount Google Drive\n",
        "from google.colab import drive\n",
        "drive.mount('/content/drive')\n",
        "\n",
        "# STEP 2: Set folder paths\n",
        "import os\n",
        "cat_folder = \"/content/drive/MyDrive/Cat Dog dataset-20250411T173710Z-001/Cat Dog dataset/cats\"  # change this\n",
        "dog_folder = \"/content/drive/MyDrive/Cat Dog dataset-20250411T173710Z-001/Cat Dog dataset/dogs\"  # change this\n",
        "\n",
        "# STEP 3: Load and process images\n",
        "from PIL import Image\n",
        "import numpy as np\n",
        "\n",
        "def extract_features(img_path):\n",
        "    img = Image.open(img_path).convert('RGB')\n",
        "    img = img.resize((224, 224))  # Resize for consistent size\n",
        "    arr = np.array(img) / 255.0   # Normalize to [0, 1]\n",
        "\n",
        "    r = arr[:, :, 0]\n",
        "    g = arr[:, :, 1]\n",
        "    b = arr[:, :, 2]\n",
        "    gray = 0.2989 * r + 0.5870 * g + 0.1140 * b  # Grayscale\n",
        "\n",
        "    avg_brightness = np.mean(gray)\n",
        "    avg_r = np.mean(r)\n",
        "    avg_g = np.mean(g)\n",
        "    avg_b = np.mean(b)\n",
        "\n",
        "    return [round(avg_brightness * 255, 2), round(avg_r * 255, 2), round(avg_g * 255, 2), round(avg_b * 255, 2)]\n",
        "\n",
        "# STEP 4: Process all images and collect features\n",
        "def process_folder(folder):\n",
        "    features = []\n",
        "    for filename in os.listdir(folder):\n",
        "        if filename.lower().endswith(('.jpg', '.jpeg', '.png')):\n",
        "            path = os.path.join(folder, filename)\n",
        "            feat = extract_features(path)\n",
        "            print(f\"{filename}: {feat}\")\n",
        "            features.append(feat)\n",
        "    return np.mean(features, axis=0)\n",
        "\n",
        "print(\"\\n--- Cat Features ---\")\n",
        "cat_features = process_folder(cat_folder)\n",
        "\n",
        "print(\"\\n--- Dog Features ---\")\n",
        "dog_features = process_folder(dog_folder)\n",
        "\n",
        "print(\"\\n--- Averages for ESP32 Code ---\")\n",
        "print(\"std::vector<float> catFeature = { %.2f, %.2f, %.2f, %.2f };\" % tuple(cat_features))\n",
        "print(\"std::vector<float> dogFeature = { %.2f, %.2f, %.2f, %.2f };\" % tuple(dog_features))"
      ]
    },
    {
      "cell_type": "code",
      "source": [
        "from google.colab import drive\n",
        "drive.mount('/content/drive')"
      ],
      "metadata": {
        "colab": {
          "base_uri": "https://localhost:8080/"
        },
        "id": "eH3zYlc078ez",
        "outputId": "ee965700-1d09-47be-adf3-deff9aef344a"
      },
      "execution_count": null,
      "outputs": [
        {
          "output_type": "stream",
          "name": "stdout",
          "text": [
            "Mounted at /content/drive\n"
          ]
        }
      ]
    }
  ]
}